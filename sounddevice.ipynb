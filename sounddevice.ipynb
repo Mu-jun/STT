{
 "cells": [
  {
   "cell_type": "code",
   "execution_count": 1,
   "metadata": {},
   "outputs": [],
   "source": [
    "import soundfile as sf\n",
    "import sounddevice as sd\n",
    "import numpy as np\n",
    "import sys\n",
    "from queue import Queue"
   ]
  },
  {
   "cell_type": "code",
   "execution_count": 2,
   "metadata": {},
   "outputs": [
    {
     "data": {
      "text/plain": [
       "[1, 3]"
      ]
     },
     "execution_count": 2,
     "metadata": {},
     "output_type": "execute_result"
    }
   ],
   "source": [
    "sd.default.device"
   ]
  },
  {
   "cell_type": "code",
   "execution_count": 8,
   "metadata": {},
   "outputs": [
    {
     "data": {
      "text/plain": [
       "  0 Microsoft Sound Mapper - Input, MME (2 in, 0 out)\n",
       "> 1 마이크(Realtek(R) Audio), MME (2 in, 0 out)\n",
       "  2 Microsoft Sound Mapper - Output, MME (0 in, 2 out)\n",
       "< 3 Realtek HD Audio 2nd output(Rea, MME (0 in, 2 out)\n",
       "  4 스피커(Realtek(R) Audio), MME (0 in, 2 out)\n",
       "  5 Speakers (Realtek HD Audio output), Windows WDM-KS (0 in, 2 out)\n",
       "  6 마이크 (Realtek HD Audio Mic input), Windows WDM-KS (2 in, 0 out)\n",
       "  7 Headphones (Realtek HD Audio 2nd output), Windows WDM-KS (0 in, 2 out)\n",
       "  8 스테레오 믹스 (Realtek HD Audio Stereo input), Windows WDM-KS (2 in, 0 out)\n",
       "  9 Speakers (Nahimic mirroring Wave Speaker), Windows WDM-KS (0 in, 2 out)"
      ]
     },
     "execution_count": 8,
     "metadata": {},
     "output_type": "execute_result"
    }
   ],
   "source": [
    "sd.query_devices()"
   ]
  },
  {
   "cell_type": "code",
   "execution_count": 4,
   "metadata": {},
   "outputs": [
    {
     "data": {
      "text/plain": [
       "{'name': '마이크(Realtek(R) Audio)',\n",
       " 'hostapi': 0,\n",
       " 'max_input_channels': 2,\n",
       " 'max_output_channels': 0,\n",
       " 'default_low_input_latency': 0.09,\n",
       " 'default_low_output_latency': 0.09,\n",
       " 'default_high_input_latency': 0.18,\n",
       " 'default_high_output_latency': 0.18,\n",
       " 'default_samplerate': 44100.0}"
      ]
     },
     "execution_count": 4,
     "metadata": {},
     "output_type": "execute_result"
    }
   ],
   "source": [
    "sd.query_devices(1,'input')"
   ]
  },
  {
   "cell_type": "code",
   "execution_count": 5,
   "metadata": {},
   "outputs": [
    {
     "data": {
      "text/plain": [
       "[None, None]"
      ]
     },
     "execution_count": 5,
     "metadata": {},
     "output_type": "execute_result"
    }
   ],
   "source": [
    "sd.default.channels"
   ]
  },
  {
   "cell_type": "markdown",
   "metadata": {},
   "source": [
    "## 녹음"
   ]
  },
  {
   "cell_type": "code",
   "execution_count": 6,
   "metadata": {},
   "outputs": [],
   "source": [
    "sr = 16000\n",
    "ch = 1\n",
    "subtype = 'PCM_16' # sample_width 4byte(32bit)"
   ]
  },
  {
   "cell_type": "code",
   "execution_count": 7,
   "metadata": {},
   "outputs": [
    {
     "name": "stdout",
     "output_type": "stream",
     "text": [
      "Recording finished\n"
     ]
    }
   ],
   "source": [
    "q = Queue()\n",
    "def callback(indata, frames, time, status):\n",
    "    if status:\n",
    "        print(status, file=sys.stderr)\n",
    "    # # 소리 낼 때만 녹음\n",
    "    # if np.max(indata ) > 5e-5:\n",
    "    q.put(indata.copy())\n",
    "    \n",
    "try:\n",
    "    file = sf.SoundFile('./outputs/sd_microphone_test.wav','w',sr,ch,subtype)\n",
    "    with file:\n",
    "        with sd.InputStream(samplerate=sr, channels=ch, callback=callback):\n",
    "            sig = []\n",
    "            while True:\n",
    "                file.write(q.get())\n",
    "                # sig.extend(q.get())\n",
    "                # if len(sig) > 16000:\n",
    "                #     print(len(sig))\n",
    "                #     sig = []\n",
    "                # print(np.max(sig))\n",
    "except KeyboardInterrupt as ke:\n",
    "    print(\"Recording finished\")\n",
    "except Exception as e:\n",
    "    print(e)\n",
    "    "
   ]
  },
  {
   "cell_type": "code",
   "execution_count": 32,
   "metadata": {},
   "outputs": [],
   "source": [
    "sig, sr = sf.read('./outputs/sd_microphone_test.wav')\n",
    "sd.play(sig,sr)\n",
    "# sd.wait()"
   ]
  },
  {
   "cell_type": "markdown",
   "metadata": {},
   "source": [
    "## 믹싱 테스트"
   ]
  },
  {
   "cell_type": "code",
   "execution_count": 1,
   "metadata": {},
   "outputs": [],
   "source": [
    "import librosa"
   ]
  },
  {
   "cell_type": "code",
   "execution_count": 5,
   "metadata": {},
   "outputs": [],
   "source": [
    "sr = 16000\n",
    "back_y,_ = librosa.load('./dataset/audio/script1_g_0044-6002-01-01-KSM-F-05-A.wav',sr)\n",
    "fore_y,_ = librosa.load('./dataset/audio/script1_g_0044-6001-01-01-KSM-F-05-A.wav',sr)\n"
   ]
  },
  {
   "cell_type": "code",
   "execution_count": 6,
   "metadata": {},
   "outputs": [
    {
     "name": "stdout",
     "output_type": "stream",
     "text": [
      "back shape = (47040,)\n",
      "fore shape = (57600,)\n"
     ]
    }
   ],
   "source": [
    "print(f'back shape = {back_y.shape}')\n",
    "print(f'fore shape = {fore_y.shape}')\n"
   ]
  },
  {
   "cell_type": "code",
   "execution_count": 10,
   "metadata": {},
   "outputs": [
    {
     "name": "stdout",
     "output_type": "stream",
     "text": [
      "(47040,)\n"
     ]
    }
   ],
   "source": [
    "mixing = []\n",
    "for f, b in zip(fore_y,back_y):\n",
    "    mixing.append(f+b)\n",
    "mixing = np.array(mixing)\n",
    "print(mixing.shape)"
   ]
  },
  {
   "cell_type": "code",
   "execution_count": 13,
   "metadata": {},
   "outputs": [],
   "source": [
    "sd.play(fore_y,sr)\n",
    "sd.wait()\n",
    "sd.play(mixing,sr)\n",
    "sd.wait()"
   ]
  },
  {
   "cell_type": "markdown",
   "metadata": {},
   "source": [
    "## adding noise with snr"
   ]
  },
  {
   "cell_type": "code",
   "execution_count": 67,
   "metadata": {},
   "outputs": [],
   "source": [
    "import torch\n",
    "import math"
   ]
  },
  {
   "cell_type": "code",
   "execution_count": 63,
   "metadata": {},
   "outputs": [],
   "source": [
    "def load_wav(file):\n",
    "    y,_ = librosa.load(file, sr)\n",
    "    return torch.from_numpy(y)"
   ]
  },
  {
   "cell_type": "code",
   "execution_count": 64,
   "metadata": {},
   "outputs": [],
   "source": [
    "sr = 16000\n",
    "speech = load_wav('./dataset/audio/script1_g_0044-6002-01-01-KSM-F-05-A.wav')\n",
    "noise = load_wav('./dataset/audio/script1_g_0044-6001-01-01-KSM-F-05-A.wav')"
   ]
  },
  {
   "cell_type": "code",
   "execution_count": 65,
   "metadata": {},
   "outputs": [],
   "source": [
    "if speech.shape[0] > noise.shape[0]:\n",
    "    speech = speech[:noise.shape[0]]\n",
    "else:\n",
    "    noise = noise[:speech.shape[0]]"
   ]
  },
  {
   "cell_type": "code",
   "execution_count": 66,
   "metadata": {},
   "outputs": [],
   "source": [
    "speech_power = speech.norm(p=2)\n",
    "noise_power = noise.norm(p=2)"
   ]
  },
  {
   "cell_type": "code",
   "execution_count": 68,
   "metadata": {},
   "outputs": [],
   "source": [
    "snr_dbs = [20,10,3]\n",
    "noisy_speeches = []\n",
    "for snr_db in snr_dbs:\n",
    "    snr = math.exp(snr_db/10)\n",
    "    scale = snr*noise_power/speech_power\n",
    "    noisy_speeches.append( (scale*speech + noise)/2 )"
   ]
  },
  {
   "cell_type": "code",
   "execution_count": null,
   "metadata": {},
   "outputs": [],
   "source": [
    "sd.play(noisy_speeches[1],sr)"
   ]
  }
 ],
 "metadata": {
  "kernelspec": {
   "display_name": "Python 3.7.13 ('STT')",
   "language": "python",
   "name": "python3"
  },
  "language_info": {
   "codemirror_mode": {
    "name": "ipython",
    "version": 3
   },
   "file_extension": ".py",
   "mimetype": "text/x-python",
   "name": "python",
   "nbconvert_exporter": "python",
   "pygments_lexer": "ipython3",
   "version": "3.7.13"
  },
  "orig_nbformat": 4,
  "vscode": {
   "interpreter": {
    "hash": "19631f30805cf65d5465564d75f0fe7c05dee5c1f7be198222dbe754da644e52"
   }
  }
 },
 "nbformat": 4,
 "nbformat_minor": 2
}
