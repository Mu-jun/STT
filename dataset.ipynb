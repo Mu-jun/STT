{
 "cells": [
  {
   "cell_type": "code",
   "execution_count": 1,
   "metadata": {},
   "outputs": [],
   "source": [
    "import json\n",
    "import os\n",
    "import pandas as pd\n",
    "from tqdm import tqdm\n",
    "from pathlib import Path"
   ]
  },
  {
   "cell_type": "code",
   "execution_count": 2,
   "metadata": {},
   "outputs": [],
   "source": [
    "text_path = Path('./dataset/text/')\n",
    "text_list = os.listdir(text_path)\n",
    "audio_path = Path('./dataset/audio/')"
   ]
  },
  {
   "cell_type": "code",
   "execution_count": null,
   "metadata": {},
   "outputs": [],
   "source": [
    "text_dict = {'filename':[],'text':[]}\n",
    "\n",
    "for i in tqdm(range(len(text_list))):\n",
    "    with open(os.path.join(text_path,text_list[i]),'r',encoding='utf8') as f:\n",
    "        text_json = json.load(f)\n",
    "        # print(text_json)\n",
    "        text_dict['filename'].append(text_json['파일정보']['FileName'])\n",
    "        text_dict['text'].append(text_json['전사정보']['LabelText'])\n",
    "        # print(text_dict)\n",
    "df = pd.DataFrame(text_dict)\n",
    "df.head()"
   ]
  },
  {
   "cell_type": "code",
   "execution_count": null,
   "metadata": {},
   "outputs": [],
   "source": [
    "df.to_csv('order_speech_ko.csv',index=False)"
   ]
  },
  {
   "cell_type": "markdown",
   "metadata": {},
   "source": [
    "## 모델 테스트용 데이터셋"
   ]
  },
  {
   "cell_type": "code",
   "execution_count": null,
   "metadata": {},
   "outputs": [],
   "source": [
    "text_dict = {'filename':[],'text':[]}\n",
    "\n",
    "for i in tqdm(range(1000)):\n",
    "    with open(os.path.join(text_path,text_list[i]),'r',encoding='utf8') as f:\n",
    "        text_json = json.load(f)\n",
    "        # print(text_json)\n",
    "        text_dict['filename'].append(text_json['파일정보']['FileName'])\n",
    "        text_dict['text'].append(text_json['전사정보']['LabelText'])\n",
    "        # print(text_dict)\n",
    "df = pd.DataFrame(text_dict)\n",
    "df.head()"
   ]
  },
  {
   "cell_type": "code",
   "execution_count": null,
   "metadata": {},
   "outputs": [],
   "source": [
    "df.to_csv('order_speech_ko1000.csv',index=False)"
   ]
  },
  {
   "cell_type": "markdown",
   "metadata": {},
   "source": [
    "## 오디오 데이터 추가"
   ]
  },
  {
   "cell_type": "code",
   "execution_count": null,
   "metadata": {},
   "outputs": [],
   "source": [
    "import librosa"
   ]
  },
  {
   "cell_type": "code",
   "execution_count": null,
   "metadata": {},
   "outputs": [],
   "source": [
    "# text_dict = {'filename':[],'text':[],'array':[]}\n",
    "\n",
    "# for i in tqdm(range(\n",
    "#     0,len(text_list)\n",
    "#     # 10 # 테스트용\n",
    "#     )):\n",
    "#     with open(os.path.join(text_path,text_list[i]),'r',encoding='utf8') as f:\n",
    "#         try:\n",
    "#             text_json = json.load(f)\n",
    "            \n",
    "#             file_path = os.path.join(audio_path,text_json['파일정보']['FileName'])\n",
    "#             array,_ = librosa.load(file_path,sr=16000)\n",
    "            \n",
    "#             text_dict['filename'].append(text_json['파일정보']['FileName'])\n",
    "#             text_dict['text'].append(text_json['전사정보']['LabelText'])\n",
    "#             text_dict['array'].append(list(array))\n",
    "#         except:\n",
    "#             pass\n",
    "#     if i%1000==999:\n",
    "#         n=i//1000\n",
    "#         df = pd.DataFrame(text_dict)\n",
    "#         df.to_csv(f'order_speech_ko1000_{n:03d}.csv',index=False,sep='\\t')\n",
    "#         text_dict = {'filename':[],'text':[],'array':[]}\n",
    "#         print(f'{n:03d} complete')"
   ]
  },
  {
   "cell_type": "code",
   "execution_count": 4,
   "metadata": {},
   "outputs": [
    {
     "data": {
      "text/html": [
       "<div>\n",
       "<style scoped>\n",
       "    .dataframe tbody tr th:only-of-type {\n",
       "        vertical-align: middle;\n",
       "    }\n",
       "\n",
       "    .dataframe tbody tr th {\n",
       "        vertical-align: top;\n",
       "    }\n",
       "\n",
       "    .dataframe thead th {\n",
       "        text-align: right;\n",
       "    }\n",
       "</style>\n",
       "<table border=\"1\" class=\"dataframe\">\n",
       "  <thead>\n",
       "    <tr style=\"text-align: right;\">\n",
       "      <th></th>\n",
       "      <th>filename</th>\n",
       "      <th>text</th>\n",
       "      <th>array</th>\n",
       "    </tr>\n",
       "  </thead>\n",
       "  <tbody>\n",
       "    <tr>\n",
       "      <th>0</th>\n",
       "      <td>script1_g_0182-6046-01-01-YSB-F-03-B.wav</td>\n",
       "      <td>이번 주말에 최저 기온이 얼마까지 떨어지는지 알려 줘.</td>\n",
       "      <td>[0.0, 0.0, 0.0, 0.0, 0.0, 0.0, 0.0, 0.0, 0.0, ...</td>\n",
       "    </tr>\n",
       "    <tr>\n",
       "      <th>1</th>\n",
       "      <td>script1_g_0182-6047-01-01-YSB-F-03-B.wav</td>\n",
       "      <td>내가 검색했던 종목 주가가 어떻게 돼?</td>\n",
       "      <td>[0.0, 0.0, 0.0, 0.0, 0.0, 0.0, 0.0, 0.0, 0.0, ...</td>\n",
       "    </tr>\n",
       "    <tr>\n",
       "      <th>2</th>\n",
       "      <td>script1_g_0182-6048-01-01-YSB-F-03-B.wav</td>\n",
       "      <td>기아차의 일주일 주가 확인 부탁해.</td>\n",
       "      <td>[0.0, 0.0, 0.0, 0.0, 0.0, 0.0, 0.0, 0.0, 0.0, ...</td>\n",
       "    </tr>\n",
       "    <tr>\n",
       "      <th>3</th>\n",
       "      <td>script1_g_0182-6049-01-01-YSB-F-03-B.wav</td>\n",
       "      <td>천 원을 달러로 바꾸면 얼마야?</td>\n",
       "      <td>[0.0, 0.0, 0.0, 0.0, 0.0, 0.0, 0.0, 0.0, 0.0, ...</td>\n",
       "    </tr>\n",
       "    <tr>\n",
       "      <th>4</th>\n",
       "      <td>script1_g_0182-6050-01-01-YSB-F-03-B.wav</td>\n",
       "      <td>밖에 어때?</td>\n",
       "      <td>[0.0, 0.0, 0.0, 0.0, 0.0, 0.0, 0.0, 0.0, 0.0, ...</td>\n",
       "    </tr>\n",
       "  </tbody>\n",
       "</table>\n",
       "</div>"
      ],
      "text/plain": [
       "                                   filename                            text  \\\n",
       "0  script1_g_0182-6046-01-01-YSB-F-03-B.wav  이번 주말에 최저 기온이 얼마까지 떨어지는지 알려 줘.   \n",
       "1  script1_g_0182-6047-01-01-YSB-F-03-B.wav           내가 검색했던 종목 주가가 어떻게 돼?   \n",
       "2  script1_g_0182-6048-01-01-YSB-F-03-B.wav             기아차의 일주일 주가 확인 부탁해.   \n",
       "3  script1_g_0182-6049-01-01-YSB-F-03-B.wav               천 원을 달러로 바꾸면 얼마야?   \n",
       "4  script1_g_0182-6050-01-01-YSB-F-03-B.wav                          밖에 어때?   \n",
       "\n",
       "                                               array  \n",
       "0  [0.0, 0.0, 0.0, 0.0, 0.0, 0.0, 0.0, 0.0, 0.0, ...  \n",
       "1  [0.0, 0.0, 0.0, 0.0, 0.0, 0.0, 0.0, 0.0, 0.0, ...  \n",
       "2  [0.0, 0.0, 0.0, 0.0, 0.0, 0.0, 0.0, 0.0, 0.0, ...  \n",
       "3  [0.0, 0.0, 0.0, 0.0, 0.0, 0.0, 0.0, 0.0, 0.0, ...  \n",
       "4  [0.0, 0.0, 0.0, 0.0, 0.0, 0.0, 0.0, 0.0, 0.0, ...  "
      ]
     },
     "execution_count": 4,
     "metadata": {},
     "output_type": "execute_result"
    }
   ],
   "source": [
    "csv_df = pd.read_csv('order_speech_ko1000_100.csv',sep='\\t')\n",
    "csv_df.head()"
   ]
  },
  {
   "cell_type": "code",
   "execution_count": 5,
   "metadata": {},
   "outputs": [
    {
     "data": {
      "text/plain": [
       "str"
      ]
     },
     "execution_count": 5,
     "metadata": {},
     "output_type": "execute_result"
    }
   ],
   "source": [
    "array=csv_df['array'][0]\n",
    "type(array)"
   ]
  },
  {
   "cell_type": "code",
   "execution_count": 6,
   "metadata": {},
   "outputs": [
    {
     "name": "stdout",
     "output_type": "stream",
     "text": [
      "[0.0, 0.0, 0.0, 0.0,\n",
      " 0.0, 0.0, 0.0, 0.0]\n"
     ]
    }
   ],
   "source": [
    "print(array[:20])\n",
    "print(array[-20:])"
   ]
  },
  {
   "cell_type": "code",
   "execution_count": 7,
   "metadata": {},
   "outputs": [],
   "source": [
    "import numpy as np"
   ]
  },
  {
   "cell_type": "code",
   "execution_count": 8,
   "metadata": {},
   "outputs": [
    {
     "data": {
      "text/plain": [
       "array([0., 0., 0., ..., 0., 0., 0.], dtype=float32)"
      ]
     },
     "execution_count": 8,
     "metadata": {},
     "output_type": "execute_result"
    }
   ],
   "source": [
    "np.array(array[1:-1].split(',')).astype(np.float32)"
   ]
  }
 ],
 "metadata": {
  "kernelspec": {
   "display_name": "Python 3.7.13 ('STT')",
   "language": "python",
   "name": "python3"
  },
  "language_info": {
   "codemirror_mode": {
    "name": "ipython",
    "version": 3
   },
   "file_extension": ".py",
   "mimetype": "text/x-python",
   "name": "python",
   "nbconvert_exporter": "python",
   "pygments_lexer": "ipython3",
   "version": "3.7.13"
  },
  "orig_nbformat": 4,
  "vscode": {
   "interpreter": {
    "hash": "19631f30805cf65d5465564d75f0fe7c05dee5c1f7be198222dbe754da644e52"
   }
  }
 },
 "nbformat": 4,
 "nbformat_minor": 2
}
