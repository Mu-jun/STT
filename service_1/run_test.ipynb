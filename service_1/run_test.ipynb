{
 "cells": [
  {
   "cell_type": "code",
   "execution_count": 3,
   "metadata": {},
   "outputs": [],
   "source": [
    "import soundfile as sf\n",
    "import sounddevice as sd\n",
    "import numpy as np\n",
    "import sys\n",
    "import multiprocessing\n",
    "import time\n",
    "import librosa\n",
    "import speech_recognition as sp_rec\n",
    "\n",
    "from queue import Queue\n",
    "from model import ServiceModel\n"
   ]
  },
  {
   "cell_type": "code",
   "execution_count": 4,
   "metadata": {},
   "outputs": [],
   "source": [
    "\n",
    "sr = 16000\n",
    "ch = 1\n",
    "subtype = 'PCM_16' # sample_width 2byte(16bit)\n",
    "sw = 2 # sample_width\n",
    "\n",
    "rec = sp_rec.Recognizer()\n",
    "mic = sp_rec.Microphone(sample_rate=sr)\n",
    "model = ServiceModel(base='jamo')\n"
   ]
  },
  {
   "cell_type": "code",
   "execution_count": 5,
   "metadata": {},
   "outputs": [],
   "source": [
    "\n",
    "def service(sig):\n",
    "    print(model.one_shot(np.array(sig).flatten()))\n"
   ]
  },
  {
   "cell_type": "code",
   "execution_count": 11,
   "metadata": {},
   "outputs": [],
   "source": [
    "global running, threshold, sig_flag, pause_cnt\n",
    "pause_cnt = 10\n",
    "cnt = 0\n",
    "running = True\n",
    "sig_flag = False\n",
    "threshold = 0\n",
    "\n",
    "q = Queue()\n",
    "\n",
    "def rms(array):\n",
    "    return np.sqrt( np.mean( np.array(array) **2 ) )\n",
    "\n",
    "def callback(indata, frames, time, status):\n",
    "    global threshold, sig_flag, cnt, pause_cnt\n",
    "    if status:\n",
    "        print(status, file=sys.stderr)\n",
    "    if rms(indata) > threshold:\n",
    "        sig_flag = True\n",
    "        q.put(indata.copy())\n",
    "        cnt = 0\n",
    "    else:\n",
    "        if cnt > pause_cnt:\n",
    "            sig_flag = False\n",
    "            cnt = 0\n",
    "        else:\n",
    "            cnt += 1"
   ]
  },
  {
   "cell_type": "code",
   "execution_count": 12,
   "metadata": {},
   "outputs": [
    {
     "name": "stdout",
     "output_type": "stream",
     "text": [
      "init complete\n",
      "threshold : 3.221278620912926e-05\n",
      "saying\n",
      "saying\n",
      "saying\n",
      "saying\n",
      "STT\n",
      "1664\n",
      "saying\n",
      "saying\n",
      "saying\n",
      "saying\n",
      "saying\n",
      "saying\n",
      "saying\n",
      "saying\n",
      "Recording finished\n"
     ]
    }
   ],
   "source": [
    "sig = []\n",
    "try:\n",
    "    with sd.InputStream(samplerate=sr, channels=ch, callback=callback):\n",
    "        time.sleep(5)\n",
    "    sig.extend(q.get())\n",
    "    threshold = np.max(np.abs(sig))\n",
    "    print(\"init complete\")\n",
    "    print(\"threshold :\",threshold)\n",
    "    with sd.InputStream(samplerate=sr, channels=ch, callback=callback):\n",
    "        sig = []\n",
    "        while True:\n",
    "            if sig_flag:\n",
    "                print(\"saying\")\n",
    "                time.sleep(1)\n",
    "                sig.extend(q.get())\n",
    "            elif (not sig_flag) and (sig != []):\n",
    "                print(\"STT\")\n",
    "                print(len(sig))\n",
    "                # service(sig)\n",
    "                time.sleep(1)\n",
    "                sig = []\n",
    "            else:\n",
    "                time.sleep(1)\n",
    "                print(\"wait\")\n",
    "            \n",
    "except KeyboardInterrupt as ke:\n",
    "    print(\"Recording finished\")\n",
    "except Exception as e:\n",
    "    print(e)"
   ]
  },
  {
   "cell_type": "code",
   "execution_count": 4,
   "metadata": {},
   "outputs": [
    {
     "name": "stdout",
     "output_type": "stream",
     "text": [
      "start running\n",
      "9.67878007888794\n",
      "0.000997781753540039\n",
      "보 있늤는 방 붕지 시켜 줘\n",
      "3.848050117492676\n",
      "11.777889251708984\n",
      "0.001058816909790039\n",
      "보 있느는벙정지 시켜ㅗ 어떵 어 ㅗ까\n",
      "1.6419508457183838\n",
      "3.3970539569854736\n",
      "0.0010578632354736328\n",
      "지ㅔ가 보입언중 대처로 으인지 궁금해\n",
      "1.6899504661560059\n",
      "9.917074918746948\n",
      "0.0\n",
      "어어\n",
      "0.8709938526153564\n",
      "10.367519617080688\n",
      "0.001911163330078125\n",
      "보고 있느넝 사덩지 시쾨도 더 죾아지날시가 아때 나 대 시넌드미 조이버 주더첼오뢰는지 궁그면 지금나잔 취침등 꺼 줘\n",
      "4.793968439102173\n",
      "51.718247175216675\n",
      "0.0019822120666503906\n",
      "고있느네 가등ㄴ 싴교판 주가에너씨가데나 ㄷ 신 정뇐 ㅜ 입어 주 되즈롤는ㅈ ㅇ그미 ㅣㅇㄴ가나시ㅣ우꺼 주 입언 싶엉ㄴ감주ㅔ름지ㅔ겅 저 입어 종아날씨종ㅎ알ㅂ아 봦 지 ㅇㄴㅁ씨는좋아아잔지 알아 봐 조 간난거에 ㄴ 버데 날씹ㅇ기 이거ㅏㄸㄴ기리 까자 아꺼워 강에부일 좀 기고 싶담유일블보렬 줄래도ㅓ스트 ㅇ려 ㅈ래 즐래 즐겨찾기 ㅇ목으로 이동\n",
      "27.606492280960083\n",
      "54.902129888534546\n",
      "0.1030573844909668\n",
      "장남부오늘 날씨 브 리핀 거떤즈리 가자 가까워판랠 불 점기고 싶다 금면밸 더 퐁 줄래ㅗ스트려럴 조ㅜㅜㄹ 수 있드겨잡가목으로 있도 ㄴ자가까우 도로 원활하는 곳 알ㄹ디오북 취치모드 있진재 도로 교통 사어떤지 알ㄹ 주가 교토 사학안 어떻게된 다구웠으니 가도없어 ㅇ풀금 주가강 어제에 비레 몇 퍼올라는질ㄹ어어 전정리 켜 줘\n",
      "65.82548213005066\n",
      "finished\n",
      "Program end\n"
     ]
    }
   ],
   "source": [
    "\n",
    "global running\n",
    "running= True\n",
    "\n",
    "try:\n",
    "    with mic:\n",
    "        procs = []\n",
    "        print('start running')\n",
    "        while running:\n",
    "            start_time = time.time()\n",
    "            # rec.adjust_for_ambient_noise(mic)\n",
    "            sig = rec.listen(mic).get_wav_data(sr,2)\n",
    "            sig_time = time.time()\n",
    "            print(sig_time-start_time)\n",
    "            \n",
    "            data_s16 = np.frombuffer(sig, dtype=np.int16, count=len(sig)//2, offset=0)\n",
    "            float_data = (data_s16 * 0.5**15).astype(np.float32)\n",
    "            # sd.play(float_data,sr)\n",
    "            # print(type(float_data))\n",
    "            # print(float_data.dtype)\n",
    "            data_cvt_time = time.time()\n",
    "            print(data_cvt_time-sig_time)\n",
    "            \n",
    "            service(float_data)\n",
    "            # p = multiprocessing.Process(target=service,args=(sig,))\n",
    "            # p.start()\n",
    "            # procs.append(p)\n",
    "            \n",
    "            print(time.time()-data_cvt_time)\n",
    "\n",
    "            # time.sleep(5)\n",
    "\n",
    "except KeyboardInterrupt as ke:\n",
    "    print(\"finished\")\n",
    "except Exception as e:\n",
    "    print(e)\n",
    "    \n",
    "for p in procs:\n",
    "    p.join()\n",
    "    \n",
    "print(\"Program end\")"
   ]
  }
 ],
 "metadata": {
  "kernelspec": {
   "display_name": "Python 3.7.13 ('STT')",
   "language": "python",
   "name": "python3"
  },
  "language_info": {
   "codemirror_mode": {
    "name": "ipython",
    "version": 3
   },
   "file_extension": ".py",
   "mimetype": "text/x-python",
   "name": "python",
   "nbconvert_exporter": "python",
   "pygments_lexer": "ipython3",
   "version": "3.7.13"
  },
  "orig_nbformat": 4,
  "vscode": {
   "interpreter": {
    "hash": "19631f30805cf65d5465564d75f0fe7c05dee5c1f7be198222dbe754da644e52"
   }
  }
 },
 "nbformat": 4,
 "nbformat_minor": 2
}
